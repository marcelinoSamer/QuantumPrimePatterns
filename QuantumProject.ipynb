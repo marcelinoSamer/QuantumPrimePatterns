{
  "nbformat": 4,
  "nbformat_minor": 0,
  "metadata": {
    "colab": {
      "provenance": [],
      "authorship_tag": "ABX9TyPiwwBV2eZV3ZmrRaDEizDi",
      "include_colab_link": true
    },
    "kernelspec": {
      "name": "python3",
      "display_name": "Python 3"
    },
    "language_info": {
      "name": "python"
    }
  },
  "cells": [
    {
      "cell_type": "markdown",
      "metadata": {
        "id": "view-in-github",
        "colab_type": "text"
      },
      "source": [
        "<a href=\"https://colab.research.google.com/github/marcelinoSamer/QuantumProject/blob/main/QuantumProject.ipynb\" target=\"_parent\"><img src=\"https://colab.research.google.com/assets/colab-badge.svg\" alt=\"Open In Colab\"/></a>"
      ]
    },
    {
      "cell_type": "code",
      "execution_count": 2,
      "metadata": {
        "colab": {
          "base_uri": "https://localhost:8080/"
        },
        "collapsed": true,
        "id": "osEM-rzzIfsE",
        "outputId": "44852fc8-7b2a-47ea-fa56-b8a3430ca253"
      },
      "outputs": [
        {
          "output_type": "stream",
          "name": "stdout",
          "text": [
            "Collecting qiskit_aer\n",
            "  Downloading qiskit_aer-0.15.1-cp310-cp310-manylinux_2_17_x86_64.manylinux2014_x86_64.whl.metadata (8.0 kB)\n",
            "Collecting qiskit>=1.1.0 (from qiskit_aer)\n",
            "  Downloading qiskit-1.2.4-cp38-abi3-manylinux_2_17_x86_64.manylinux2014_x86_64.whl.metadata (12 kB)\n",
            "Requirement already satisfied: numpy>=1.16.3 in /usr/local/lib/python3.10/dist-packages (from qiskit_aer) (1.26.4)\n",
            "Requirement already satisfied: scipy>=1.0 in /usr/local/lib/python3.10/dist-packages (from qiskit_aer) (1.13.1)\n",
            "Requirement already satisfied: psutil>=5 in /usr/local/lib/python3.10/dist-packages (from qiskit_aer) (5.9.5)\n",
            "Collecting rustworkx>=0.15.0 (from qiskit>=1.1.0->qiskit_aer)\n",
            "  Downloading rustworkx-0.15.1-cp38-abi3-manylinux_2_17_x86_64.manylinux2014_x86_64.whl.metadata (9.9 kB)\n",
            "Requirement already satisfied: sympy>=1.3 in /usr/local/lib/python3.10/dist-packages (from qiskit>=1.1.0->qiskit_aer) (1.13.1)\n",
            "Collecting dill>=0.3 (from qiskit>=1.1.0->qiskit_aer)\n",
            "  Downloading dill-0.3.9-py3-none-any.whl.metadata (10 kB)\n",
            "Requirement already satisfied: python-dateutil>=2.8.0 in /usr/local/lib/python3.10/dist-packages (from qiskit>=1.1.0->qiskit_aer) (2.8.2)\n",
            "Collecting stevedore>=3.0.0 (from qiskit>=1.1.0->qiskit_aer)\n",
            "  Downloading stevedore-5.3.0-py3-none-any.whl.metadata (2.3 kB)\n",
            "Requirement already satisfied: typing-extensions in /usr/local/lib/python3.10/dist-packages (from qiskit>=1.1.0->qiskit_aer) (4.12.2)\n",
            "Collecting symengine<0.14,>=0.11 (from qiskit>=1.1.0->qiskit_aer)\n",
            "  Downloading symengine-0.13.0-cp310-cp310-manylinux_2_17_x86_64.manylinux2014_x86_64.whl.metadata (1.2 kB)\n",
            "Requirement already satisfied: six>=1.5 in /usr/local/lib/python3.10/dist-packages (from python-dateutil>=2.8.0->qiskit>=1.1.0->qiskit_aer) (1.16.0)\n",
            "Collecting pbr>=2.0.0 (from stevedore>=3.0.0->qiskit>=1.1.0->qiskit_aer)\n",
            "  Downloading pbr-6.1.0-py2.py3-none-any.whl.metadata (3.4 kB)\n",
            "Requirement already satisfied: mpmath<1.4,>=1.1.0 in /usr/local/lib/python3.10/dist-packages (from sympy>=1.3->qiskit>=1.1.0->qiskit_aer) (1.3.0)\n",
            "Downloading qiskit_aer-0.15.1-cp310-cp310-manylinux_2_17_x86_64.manylinux2014_x86_64.whl (12.3 MB)\n",
            "\u001b[2K   \u001b[90m━━━━━━━━━━━━━━━━━━━━━━━━━━━━━━━━━━━━━━━━\u001b[0m \u001b[32m12.3/12.3 MB\u001b[0m \u001b[31m73.0 MB/s\u001b[0m eta \u001b[36m0:00:00\u001b[0m\n",
            "\u001b[?25hDownloading qiskit-1.2.4-cp38-abi3-manylinux_2_17_x86_64.manylinux2014_x86_64.whl (4.8 MB)\n",
            "\u001b[2K   \u001b[90m━━━━━━━━━━━━━━━━━━━━━━━━━━━━━━━━━━━━━━━━\u001b[0m \u001b[32m4.8/4.8 MB\u001b[0m \u001b[31m90.0 MB/s\u001b[0m eta \u001b[36m0:00:00\u001b[0m\n",
            "\u001b[?25hDownloading dill-0.3.9-py3-none-any.whl (119 kB)\n",
            "\u001b[2K   \u001b[90m━━━━━━━━━━━━━━━━━━━━━━━━━━━━━━━━━━━━━━━━\u001b[0m \u001b[32m119.4/119.4 kB\u001b[0m \u001b[31m12.4 MB/s\u001b[0m eta \u001b[36m0:00:00\u001b[0m\n",
            "\u001b[?25hDownloading rustworkx-0.15.1-cp38-abi3-manylinux_2_17_x86_64.manylinux2014_x86_64.whl (2.0 MB)\n",
            "\u001b[2K   \u001b[90m━━━━━━━━━━━━━━━━━━━━━━━━━━━━━━━━━━━━━━━━\u001b[0m \u001b[32m2.0/2.0 MB\u001b[0m \u001b[31m72.3 MB/s\u001b[0m eta \u001b[36m0:00:00\u001b[0m\n",
            "\u001b[?25hDownloading stevedore-5.3.0-py3-none-any.whl (49 kB)\n",
            "\u001b[2K   \u001b[90m━━━━━━━━━━━━━━━━━━━━━━━━━━━━━━━━━━━━━━━━\u001b[0m \u001b[32m49.7/49.7 kB\u001b[0m \u001b[31m4.9 MB/s\u001b[0m eta \u001b[36m0:00:00\u001b[0m\n",
            "\u001b[?25hDownloading symengine-0.13.0-cp310-cp310-manylinux_2_17_x86_64.manylinux2014_x86_64.whl (49.7 MB)\n",
            "\u001b[2K   \u001b[90m━━━━━━━━━━━━━━━━━━━━━━━━━━━━━━━━━━━━━━━━\u001b[0m \u001b[32m49.7/49.7 MB\u001b[0m \u001b[31m13.7 MB/s\u001b[0m eta \u001b[36m0:00:00\u001b[0m\n",
            "\u001b[?25hDownloading pbr-6.1.0-py2.py3-none-any.whl (108 kB)\n",
            "\u001b[2K   \u001b[90m━━━━━━━━━━━━━━━━━━━━━━━━━━━━━━━━━━━━━━━━\u001b[0m \u001b[32m108.5/108.5 kB\u001b[0m \u001b[31m9.5 MB/s\u001b[0m eta \u001b[36m0:00:00\u001b[0m\n",
            "\u001b[?25hInstalling collected packages: symengine, rustworkx, pbr, dill, stevedore, qiskit, qiskit_aer\n",
            "Successfully installed dill-0.3.9 pbr-6.1.0 qiskit-1.2.4 qiskit_aer-0.15.1 rustworkx-0.15.1 stevedore-5.3.0 symengine-0.13.0\n"
          ]
        }
      ],
      "source": [
        "%pip install qiskit_aer\n"
      ]
    },
    {
      "cell_type": "code",
      "source": [
        "from qiskit_aer import Aer"
      ],
      "metadata": {
        "id": "l0LHIIaoIvma"
      },
      "execution_count": 3,
      "outputs": []
    },
    {
      "cell_type": "code",
      "source": [
        "%pip install qiskit_ibm_runtime\n",
        "%pip install matplotlib\n",
        "%pip install pylatexenc"
      ],
      "metadata": {
        "colab": {
          "base_uri": "https://localhost:8080/"
        },
        "collapsed": true,
        "id": "vixcDiedIypg",
        "outputId": "4f705d1f-dab1-401d-bf80-3ebd1247298e"
      },
      "execution_count": 4,
      "outputs": [
        {
          "output_type": "stream",
          "name": "stdout",
          "text": [
            "Collecting qiskit_ibm_runtime\n",
            "  Downloading qiskit_ibm_runtime-0.33.1-py3-none-any.whl.metadata (19 kB)\n",
            "Requirement already satisfied: requests>=2.19 in /usr/local/lib/python3.10/dist-packages (from qiskit_ibm_runtime) (2.32.3)\n",
            "Collecting requests-ntlm>=1.1.0 (from qiskit_ibm_runtime)\n",
            "  Downloading requests_ntlm-1.3.0-py3-none-any.whl.metadata (2.4 kB)\n",
            "Requirement already satisfied: numpy>=1.13 in /usr/local/lib/python3.10/dist-packages (from qiskit_ibm_runtime) (1.26.4)\n",
            "Requirement already satisfied: urllib3>=1.21.1 in /usr/local/lib/python3.10/dist-packages (from qiskit_ibm_runtime) (2.2.3)\n",
            "Requirement already satisfied: python-dateutil>=2.8.0 in /usr/local/lib/python3.10/dist-packages (from qiskit_ibm_runtime) (2.8.2)\n",
            "Requirement already satisfied: websocket-client>=1.5.1 in /usr/local/lib/python3.10/dist-packages (from qiskit_ibm_runtime) (1.8.0)\n",
            "Collecting ibm-platform-services>=0.22.6 (from qiskit_ibm_runtime)\n",
            "  Downloading ibm_platform_services-0.59.0-py3-none-any.whl.metadata (9.0 kB)\n",
            "Requirement already satisfied: pydantic>=2.5.0 in /usr/local/lib/python3.10/dist-packages (from qiskit_ibm_runtime) (2.9.2)\n",
            "Requirement already satisfied: qiskit>=1.1.0 in /usr/local/lib/python3.10/dist-packages (from qiskit_ibm_runtime) (1.2.4)\n",
            "Collecting ibm-cloud-sdk-core<4.0.0,>=3.22.0 (from ibm-platform-services>=0.22.6->qiskit_ibm_runtime)\n",
            "  Downloading ibm_cloud_sdk_core-3.22.0-py3-none-any.whl.metadata (8.6 kB)\n",
            "Requirement already satisfied: annotated-types>=0.6.0 in /usr/local/lib/python3.10/dist-packages (from pydantic>=2.5.0->qiskit_ibm_runtime) (0.7.0)\n",
            "Requirement already satisfied: pydantic-core==2.23.4 in /usr/local/lib/python3.10/dist-packages (from pydantic>=2.5.0->qiskit_ibm_runtime) (2.23.4)\n",
            "Requirement already satisfied: typing-extensions>=4.6.1 in /usr/local/lib/python3.10/dist-packages (from pydantic>=2.5.0->qiskit_ibm_runtime) (4.12.2)\n",
            "Requirement already satisfied: six>=1.5 in /usr/local/lib/python3.10/dist-packages (from python-dateutil>=2.8.0->qiskit_ibm_runtime) (1.16.0)\n",
            "Requirement already satisfied: rustworkx>=0.15.0 in /usr/local/lib/python3.10/dist-packages (from qiskit>=1.1.0->qiskit_ibm_runtime) (0.15.1)\n",
            "Requirement already satisfied: scipy>=1.5 in /usr/local/lib/python3.10/dist-packages (from qiskit>=1.1.0->qiskit_ibm_runtime) (1.13.1)\n",
            "Requirement already satisfied: sympy>=1.3 in /usr/local/lib/python3.10/dist-packages (from qiskit>=1.1.0->qiskit_ibm_runtime) (1.13.1)\n",
            "Requirement already satisfied: dill>=0.3 in /usr/local/lib/python3.10/dist-packages (from qiskit>=1.1.0->qiskit_ibm_runtime) (0.3.9)\n",
            "Requirement already satisfied: stevedore>=3.0.0 in /usr/local/lib/python3.10/dist-packages (from qiskit>=1.1.0->qiskit_ibm_runtime) (5.3.0)\n",
            "Requirement already satisfied: symengine<0.14,>=0.11 in /usr/local/lib/python3.10/dist-packages (from qiskit>=1.1.0->qiskit_ibm_runtime) (0.13.0)\n",
            "Requirement already satisfied: charset-normalizer<4,>=2 in /usr/local/lib/python3.10/dist-packages (from requests>=2.19->qiskit_ibm_runtime) (3.4.0)\n",
            "Requirement already satisfied: idna<4,>=2.5 in /usr/local/lib/python3.10/dist-packages (from requests>=2.19->qiskit_ibm_runtime) (3.10)\n",
            "Requirement already satisfied: certifi>=2017.4.17 in /usr/local/lib/python3.10/dist-packages (from requests>=2.19->qiskit_ibm_runtime) (2024.8.30)\n",
            "Requirement already satisfied: cryptography>=1.3 in /usr/local/lib/python3.10/dist-packages (from requests-ntlm>=1.1.0->qiskit_ibm_runtime) (43.0.3)\n",
            "Collecting pyspnego>=0.4.0 (from requests-ntlm>=1.1.0->qiskit_ibm_runtime)\n",
            "  Downloading pyspnego-0.11.1-py3-none-any.whl.metadata (5.4 kB)\n",
            "Requirement already satisfied: cffi>=1.12 in /usr/local/lib/python3.10/dist-packages (from cryptography>=1.3->requests-ntlm>=1.1.0->qiskit_ibm_runtime) (1.17.1)\n",
            "Requirement already satisfied: PyJWT<3.0.0,>=2.8.0 in /usr/local/lib/python3.10/dist-packages (from ibm-cloud-sdk-core<4.0.0,>=3.22.0->ibm-platform-services>=0.22.6->qiskit_ibm_runtime) (2.9.0)\n",
            "Requirement already satisfied: pbr>=2.0.0 in /usr/local/lib/python3.10/dist-packages (from stevedore>=3.0.0->qiskit>=1.1.0->qiskit_ibm_runtime) (6.1.0)\n",
            "Requirement already satisfied: mpmath<1.4,>=1.1.0 in /usr/local/lib/python3.10/dist-packages (from sympy>=1.3->qiskit>=1.1.0->qiskit_ibm_runtime) (1.3.0)\n",
            "Requirement already satisfied: pycparser in /usr/local/lib/python3.10/dist-packages (from cffi>=1.12->cryptography>=1.3->requests-ntlm>=1.1.0->qiskit_ibm_runtime) (2.22)\n",
            "Downloading qiskit_ibm_runtime-0.33.1-py3-none-any.whl (2.9 MB)\n",
            "\u001b[2K   \u001b[90m━━━━━━━━━━━━━━━━━━━━━━━━━━━━━━━━━━━━━━━━\u001b[0m \u001b[32m2.9/2.9 MB\u001b[0m \u001b[31m25.8 MB/s\u001b[0m eta \u001b[36m0:00:00\u001b[0m\n",
            "\u001b[?25hDownloading ibm_platform_services-0.59.0-py3-none-any.whl (340 kB)\n",
            "\u001b[2K   \u001b[90m━━━━━━━━━━━━━━━━━━━━━━━━━━━━━━━━━━━━━━━━\u001b[0m \u001b[32m340.8/340.8 kB\u001b[0m \u001b[31m29.8 MB/s\u001b[0m eta \u001b[36m0:00:00\u001b[0m\n",
            "\u001b[?25hDownloading requests_ntlm-1.3.0-py3-none-any.whl (6.6 kB)\n",
            "Downloading ibm_cloud_sdk_core-3.22.0-py3-none-any.whl (69 kB)\n",
            "\u001b[2K   \u001b[90m━━━━━━━━━━━━━━━━━━━━━━━━━━━━━━━━━━━━━━━━\u001b[0m \u001b[32m69.4/69.4 kB\u001b[0m \u001b[31m7.4 MB/s\u001b[0m eta \u001b[36m0:00:00\u001b[0m\n",
            "\u001b[?25hDownloading pyspnego-0.11.1-py3-none-any.whl (130 kB)\n",
            "\u001b[2K   \u001b[90m━━━━━━━━━━━━━━━━━━━━━━━━━━━━━━━━━━━━━━━━\u001b[0m \u001b[32m130.5/130.5 kB\u001b[0m \u001b[31m14.5 MB/s\u001b[0m eta \u001b[36m0:00:00\u001b[0m\n",
            "\u001b[?25hInstalling collected packages: ibm-cloud-sdk-core, pyspnego, ibm-platform-services, requests-ntlm, qiskit_ibm_runtime\n",
            "Successfully installed ibm-cloud-sdk-core-3.22.0 ibm-platform-services-0.59.0 pyspnego-0.11.1 qiskit_ibm_runtime-0.33.1 requests-ntlm-1.3.0\n",
            "Requirement already satisfied: matplotlib in /usr/local/lib/python3.10/dist-packages (3.8.0)\n",
            "Requirement already satisfied: contourpy>=1.0.1 in /usr/local/lib/python3.10/dist-packages (from matplotlib) (1.3.0)\n",
            "Requirement already satisfied: cycler>=0.10 in /usr/local/lib/python3.10/dist-packages (from matplotlib) (0.12.1)\n",
            "Requirement already satisfied: fonttools>=4.22.0 in /usr/local/lib/python3.10/dist-packages (from matplotlib) (4.54.1)\n",
            "Requirement already satisfied: kiwisolver>=1.0.1 in /usr/local/lib/python3.10/dist-packages (from matplotlib) (1.4.7)\n",
            "Requirement already satisfied: numpy<2,>=1.21 in /usr/local/lib/python3.10/dist-packages (from matplotlib) (1.26.4)\n",
            "Requirement already satisfied: packaging>=20.0 in /usr/local/lib/python3.10/dist-packages (from matplotlib) (24.1)\n",
            "Requirement already satisfied: pillow>=6.2.0 in /usr/local/lib/python3.10/dist-packages (from matplotlib) (10.4.0)\n",
            "Requirement already satisfied: pyparsing>=2.3.1 in /usr/local/lib/python3.10/dist-packages (from matplotlib) (3.2.0)\n",
            "Requirement already satisfied: python-dateutil>=2.7 in /usr/local/lib/python3.10/dist-packages (from matplotlib) (2.8.2)\n",
            "Requirement already satisfied: six>=1.5 in /usr/local/lib/python3.10/dist-packages (from python-dateutil>=2.7->matplotlib) (1.16.0)\n",
            "Collecting pylatexenc\n",
            "  Downloading pylatexenc-2.10.tar.gz (162 kB)\n",
            "\u001b[2K     \u001b[90m━━━━━━━━━━━━━━━━━━━━━━━━━━━━━━━━━━━━━━━━\u001b[0m \u001b[32m162.6/162.6 kB\u001b[0m \u001b[31m3.0 MB/s\u001b[0m eta \u001b[36m0:00:00\u001b[0m\n",
            "\u001b[?25h  Preparing metadata (setup.py) ... \u001b[?25l\u001b[?25hdone\n",
            "Building wheels for collected packages: pylatexenc\n",
            "  Building wheel for pylatexenc (setup.py) ... \u001b[?25l\u001b[?25hdone\n",
            "  Created wheel for pylatexenc: filename=pylatexenc-2.10-py3-none-any.whl size=136816 sha256=b9c6f483c378cfa221792788168d25ce3e6cf97db11647da12c104b1c8541d20\n",
            "  Stored in directory: /root/.cache/pip/wheels/d3/31/8b/e09b0386afd80cfc556c00408c9aeea5c35c4d484a9c762fd5\n",
            "Successfully built pylatexenc\n",
            "Installing collected packages: pylatexenc\n",
            "Successfully installed pylatexenc-2.10\n"
          ]
        }
      ]
    },
    {
      "cell_type": "code",
      "source": [
        "from qiskit import QuantumCircuit,transpile\n",
        "from sympy import isprime\n",
        "import math"
      ],
      "metadata": {
        "id": "6tOfvZLvI_Kb"
      },
      "execution_count": 5,
      "outputs": []
    },
    {
      "cell_type": "code",
      "source": [
        "#Main quantum function creating the true random numbers\n",
        "def generate_random_8bit_number(nOfBits):\n",
        "    qc = QuantumCircuit(nOfBits)\n",
        "    qc.h(range(nOfBits)) #applying hadamard gate so its 50-50 chance to be 0 or 1\n",
        "    qc.measure_all() #measure so it collapse to a value\n",
        "\n",
        "    simulator = Aer.get_backend('qasm_simulator')\n",
        "    job = simulator.run(qc, shots=1)\n",
        "    result = job.result()\n",
        "    counts = result.get_counts()\n",
        "    binary_number = list(counts.keys())[0]\n",
        "    #print(i)\n",
        "    return int(binary_number, 2) #returning values as decimals\n",
        "\n",
        "\n",
        "def main():\n",
        "    N = int(input(\"Enter the number of iterations (N): \"))\n",
        "    X = int(input(\"Enter Max Value of randomely generated number: \"))\n",
        "    Y = math.ceil(math.log2(X+1))\n",
        "    numbers_list = []\n",
        "\n",
        "    for i in range(N):\n",
        "      while True:\n",
        "          number = generate_random_8bit_number(Y)\n",
        "          if number <= X and number!=0:\n",
        "            numbers_list.append(number)\n",
        "            break\n",
        "\n",
        "    prime_count = sum(1 for number in numbers_list if isprime(number))\n",
        "    prime_ratio = prime_count / N\n",
        "\n",
        "    print(\"Generated numbers:\", numbers_list)\n",
        "    print(\"Largest value: \", X)\n",
        "    print(\"Number of prime numbers:\", prime_count)\n",
        "    print(\"Total numbers:\", N)\n",
        "    print(\"Ratio of prime numbers:\", prime_ratio)\n",
        "    print(\"Expected ratio: \", 1/(math.log(X)))\n",
        "\n",
        "\n",
        "main()"
      ],
      "metadata": {
        "colab": {
          "base_uri": "https://localhost:8080/"
        },
        "collapsed": true,
        "id": "PYfLlZ6uJCvS",
        "outputId": "c6b5740c-05a0-4c73-d81e-400c0f6d3c4a"
      },
      "execution_count": 8,
      "outputs": [
        {
          "output_type": "stream",
          "name": "stdout",
          "text": [
            "Enter the number of iterations (N): 1000\n",
            "Enter Max Value of randomely generated number: 7919\n",
            "Generated numbers: [5500, 5075, 3997, 7431, 2338, 7510, 4630, 7607, 2088, 2407, 1646, 1727, 7195, 3825, 6603, 3550, 3945, 6865, 7095, 6153, 7455, 3813, 6126, 2772, 5470, 2173, 6849, 337, 5908, 6178, 7716, 559, 6211, 6967, 4899, 5521, 737, 3895, 7143, 6869, 3936, 7599, 1369, 1367, 7440, 1365, 4826, 269, 386, 2620, 4473, 6625, 7476, 2359, 5309, 5811, 4375, 5628, 4144, 2597, 4600, 7037, 6323, 2380, 7265, 218, 7070, 2201, 3265, 502, 6361, 1239, 1072, 282, 967, 4348, 2506, 566, 5486, 5527, 4271, 4033, 1261, 7863, 4790, 3104, 7161, 5366, 573, 856, 7344, 4678, 4347, 3731, 4103, 2000, 4047, 6771, 5911, 3067, 3739, 5823, 3088, 2366, 7152, 3897, 1233, 4323, 988, 1380, 7013, 2838, 4226, 4770, 1130, 4297, 4050, 969, 7083, 3879, 5122, 5025, 4950, 7141, 2883, 1881, 111, 5373, 5776, 1312, 2988, 2908, 2488, 5635, 6171, 543, 586, 3504, 4506, 623, 1533, 375, 2648, 2868, 4078, 4475, 4807, 3751, 3146, 1099, 1636, 7340, 7724, 4219, 857, 857, 2290, 342, 652, 3035, 607, 5906, 1905, 2605, 7421, 1849, 5819, 1518, 5894, 4322, 901, 6211, 3739, 6443, 7892, 5457, 951, 6917, 5339, 3591, 7333, 53, 766, 6235, 7859, 490, 6263, 225, 1382, 2869, 1935, 20, 4816, 829, 3531, 4626, 2818, 4306, 4135, 1411, 1306, 1146, 6529, 9, 791, 919, 7696, 7136, 3224, 5572, 7066, 4658, 4031, 3058, 7615, 3207, 508, 7273, 1222, 1731, 6299, 5607, 1618, 6118, 1068, 6359, 2800, 407, 1051, 1689, 4760, 7366, 2968, 4672, 2551, 7522, 7238, 90, 4277, 2373, 5447, 6777, 3318, 6730, 898, 509, 3239, 5300, 3092, 1182, 938, 909, 5788, 5117, 5274, 4058, 4191, 1270, 3702, 1605, 290, 141, 3392, 6712, 5883, 5247, 7364, 4074, 1544, 5001, 594, 5895, 4755, 5098, 5560, 2374, 1492, 6904, 5837, 7726, 4655, 7280, 5847, 3675, 5175, 2623, 1014, 1718, 2988, 904, 5655, 3657, 4049, 7870, 3056, 7441, 3495, 369, 7342, 7049, 2433, 6055, 2904, 4305, 3113, 6606, 2883, 2716, 5321, 4355, 2237, 877, 405, 6643, 5172, 4163, 2589, 6431, 768, 4205, 3555, 4360, 6590, 4341, 2874, 5477, 7142, 3898, 5282, 4756, 2446, 2402, 6889, 2329, 868, 6454, 1707, 2161, 1028, 5548, 2581, 3888, 3603, 4087, 3148, 7790, 600, 2222, 3318, 2566, 6550, 3392, 4005, 2405, 4917, 7217, 2851, 2229, 2599, 4509, 5357, 1866, 3078, 1571, 4992, 6607, 7028, 948, 988, 1694, 397, 2990, 5476, 4001, 7033, 3597, 7615, 155, 2178, 2497, 4173, 2237, 3056, 7381, 5969, 4213, 2323, 1643, 1736, 2456, 4958, 1458, 2836, 6381, 2285, 6469, 1592, 2358, 47, 3276, 5971, 2144, 1869, 680, 17, 5191, 6475, 4157, 4152, 1978, 2959, 2924, 1791, 7288, 5102, 207, 712, 6059, 6922, 4673, 6042, 6785, 4629, 507, 6109, 541, 3534, 7544, 4675, 6216, 7427, 985, 5339, 6486, 7567, 6674, 2839, 2940, 1664, 4326, 97, 6042, 6382, 3601, 7101, 2707, 2357, 1657, 7467, 271, 349, 205, 6100, 3107, 1388, 4337, 869, 3122, 4799, 3441, 1705, 3787, 2346, 3767, 568, 694, 5785, 5245, 4617, 2445, 6832, 1217, 1456, 4088, 7814, 7816, 6389, 3054, 4518, 5744, 2874, 1300, 5361, 2830, 233, 1731, 4990, 3209, 20, 5540, 1768, 405, 2825, 5132, 4284, 1887, 249, 393, 1192, 7220, 233, 4827, 2835, 6735, 1722, 7268, 4044, 4109, 332, 624, 944, 1719, 211, 6482, 5853, 7834, 6768, 6341, 4856, 6786, 6647, 4790, 1797, 6277, 513, 2663, 4753, 3543, 3619, 3088, 6399, 888, 3327, 1273, 6340, 2577, 3902, 1695, 7112, 7094, 687, 7589, 1232, 7065, 2764, 6405, 3692, 5793, 7895, 138, 904, 167, 2231, 41, 5262, 7826, 4392, 3618, 7329, 7336, 5629, 5634, 1470, 7854, 541, 6912, 1511, 4210, 4368, 2852, 2784, 4551, 7610, 5321, 3211, 1690, 121, 2572, 4112, 1748, 7528, 4179, 1547, 258, 4222, 7230, 3593, 7232, 2334, 7115, 7487, 7738, 1027, 1281, 894, 2658, 2721, 4616, 3094, 7844, 627, 713, 47, 4537, 5300, 3790, 6702, 7896, 5816, 3538, 2048, 6128, 7420, 4055, 5965, 4597, 7275, 938, 5953, 3238, 4523, 3301, 3165, 5337, 6146, 2790, 6118, 4711, 5430, 5934, 5133, 170, 1950, 6339, 2777, 5785, 7242, 1471, 1201, 5558, 5969, 2525, 6456, 7422, 1824, 5285, 6868, 3036, 703, 4042, 4176, 2600, 7852, 4842, 5041, 3900, 3771, 1343, 4761, 2085, 462, 3266, 5600, 7513, 3243, 3640, 6395, 6466, 2839, 7815, 3115, 6056, 993, 3976, 1858, 2659, 7450, 6427, 7623, 3249, 117, 2016, 4604, 1809, 5551, 3449, 3129, 2846, 2095, 5786, 5808, 5524, 7589, 5834, 5248, 1773, 3668, 604, 4317, 1225, 2910, 3446, 5456, 1910, 4778, 1108, 3102, 1863, 7001, 3791, 1345, 5825, 5688, 6105, 1807, 4700, 1076, 1364, 6858, 4987, 3361, 2255, 3730, 1978, 4580, 2481, 6320, 7798, 4864, 4849, 6956, 6117, 5158, 4061, 2114, 149, 5214, 2553, 6301, 1097, 5846, 3784, 7808, 5464, 7283, 804, 3603, 5292, 4375, 1180, 916, 2089, 3629, 7536, 6106, 2390, 7277, 4668, 5964, 4088, 5414, 2118, 6618, 7216, 577, 7626, 1951, 5557, 6118, 6698, 2202, 5390, 7268, 4900, 2675, 6677, 1251, 3350, 4657, 6885, 6451, 2672, 6869, 3725, 647, 3129, 1109, 1896, 4215, 4498, 2216, 2963, 2727, 6214, 3905, 4639, 7645, 7163, 469, 2642, 4553, 3413, 7701, 94, 6141, 4915, 3546, 3027, 4155, 5478, 574, 1809, 7077, 3548, 6846, 5583, 7627, 7610, 27, 2200, 3194, 6737, 492, 7737, 5368, 4420, 4075, 4692, 5853, 3289, 3974, 7631, 2291, 951, 1150, 4008, 4239, 5383, 1821, 1819, 7860, 1097, 3811, 5967, 5988, 7533, 1663, 1182, 624, 2512, 2568, 1012, 6379, 1259, 89, 3993, 6444, 5846, 7555, 1980, 1469, 4048, 6035, 6742, 5494, 264, 670, 3680, 6392, 2509, 2911, 2339, 6116, 3915, 4108, 2876, 4800, 6810, 6079, 1406, 4964, 7517, 3062, 5942, 2455, 1144, 6744, 5875, 1926, 4133, 5790, 2727, 7898, 959, 572, 467, 2291, 289, 3123, 6889, 2719, 6678, 3611, 2035, 6686, 1750, 3822, 531, 1210, 7578, 682, 3830, 6179, 5835, 4582, 5990, 3985, 419, 5925, 7856, 5876, 1390, 3914, 648, 2412, 5109, 1034, 225, 4998, 7460, 1422, 3876, 3899, 4486, 3826, 2050, 2780, 4422, 251, 51, 3299, 440, 3140, 2543, 1732, 5622, 7288, 5497, 7282, 5588, 7355, 5345, 5795, 6182, 435, 2382, 4237, 6630, 3861, 2627, 2928, 6378, 6285, 6702, 3624, 2509, 4771, 6486, 6659, 5589, 6493, 4185, 6606, 5681, 5265, 6487, 2781, 6204, 4356, 952, 560, 3685, 3497, 6276, 6153, 7081, 7912, 619, 4537, 630, 325, 3462, 5121, 25, 7811, 1248, 4415, 2951, 3774, 2253]\n",
            "Largest value:  7919\n",
            "Number of prime numbers: 126\n",
            "Total numbers: 1000\n",
            "Ratio of prime numbers: 0.126\n",
            "Expected ratio:  0.1113955384011527\n"
          ]
        }
      ]
    }
  ]
}